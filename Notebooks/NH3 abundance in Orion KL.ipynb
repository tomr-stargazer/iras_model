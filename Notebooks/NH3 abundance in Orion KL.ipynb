{
 "cells": [
  {
   "cell_type": "markdown",
   "metadata": {},
   "source": [
    "![Table from Gong et al. 2015][Gong]\n",
    "[Gong]: Gong2015_ammonia.png\n",
    "\n",
    "\n",
    "# Goal: derive NH$_3$ abundance in Orion KL\n",
    "\n",
    "In this notebook, we will derive the NH$_3$ abundance towards Orion KL by scaling up the total (metastable) $^{15}$NH$_3$ abundance derived by [Gong et al. 2015](http://adsabs.harvard.edu/abs/2015A%26A...581A..48G) by the $^{14}$NH$_3$/$^{15}$NH$_3$ isotopologue ratio presented in [Hily-Blant et al. 2013](http://adsabs.harvard.edu/abs/2013Icar..223..582H)."
   ]
  },
  {
   "cell_type": "code",
   "execution_count": 6,
   "metadata": {
    "collapsed": false
   },
   "outputs": [
    {
     "name": "stdout",
     "output_type": "stream",
     "text": [
      "X(15NH3, metastable) = 1.65e-08\n"
     ]
    }
   ],
   "source": [
    "X_15NH3_metastable_para = 8.4e-9\n",
    "X_15NH3_metastable_ortho= 8.1e-9\n",
    "\n",
    "X_15NH3_metastable_sum = X_15NH3_metastable_para + X_15NH3_metastable_ortho\n",
    "\n",
    "print(\"X(15NH3, metastable) = {:.2e}\".format(X_15NH3_metastable_sum))"
   ]
  },
  {
   "cell_type": "code",
   "execution_count": 7,
   "metadata": {
    "collapsed": false
   },
   "outputs": [
    {
     "name": "stdout",
     "output_type": "stream",
     "text": [
      "X(NH3) = 5.51e-06\n"
     ]
    }
   ],
   "source": [
    "amine_14N_15N_ratio = 334 # see Hily-Blant et al. 2013\n",
    "X_NH3 = amine_14N_15N_ratio * X_15NH3_metastable_sum\n",
    "\n",
    "print(\"X(NH3) = {:.2e}\".format(X_NH3))"
   ]
  },
  {
   "cell_type": "markdown",
   "metadata": {},
   "source": [
    "## Commentary\n",
    "\n",
    "This is about an order-of-magnitude higher than what is seen in HCN, where the HCN value (as derived by [Crockett et al. 2014](http://adsabs.harvard.edu/abs/2014ApJ...787..112C)) is 6."
   ]
  }
 ],
 "metadata": {
  "kernelspec": {
   "display_name": "Python 3",
   "language": "python",
   "name": "python3"
  },
  "language_info": {
   "codemirror_mode": {
    "name": "ipython",
    "version": 3
   },
   "file_extension": ".py",
   "mimetype": "text/x-python",
   "name": "python",
   "nbconvert_exporter": "python",
   "pygments_lexer": "ipython3",
   "version": "3.6.0"
  }
 },
 "nbformat": 4,
 "nbformat_minor": 2
}
