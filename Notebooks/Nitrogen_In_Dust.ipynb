{
 "cells": [
  {
   "cell_type": "markdown",
   "metadata": {},
   "source": [
    "# How much nitrogen is locked into dust, relative to H2O?\n",
    "\n",
    "The goal here is to use studies of ISM gas and dust content to figure out what is known about the nitrogen contained in dust, and see if it's consistent with the nitrogen-in-dust content of comets such as Halley.\n",
    "\n",
    "Wyckoff et al. (1991) find that in comet Halley, 90% of the nitrogen is in dust with only 10% in molecules/volatile/gas form.\n"
   ]
  },
  {
   "cell_type": "code",
   "execution_count": 8,
   "metadata": {},
   "outputs": [
    {
     "name": "stdout",
     "output_type": "stream",
     "text": [
      "ISM depletion of N = 11.0 ± 7.2 ppm\n"
     ]
    }
   ],
   "source": [
    "# Cosmic abundance N/H from Nieva & Przybilla 2012: 62 ± 6\n",
    "N_H_cosmic_ppm = 62 \n",
    "e_N_H_cosmic_ppm = 6\n",
    "\n",
    "# ISM abundance N/H from Jensen et al. 2007: 51 ± 4\n",
    "N_H_ISM_ppm = 51\n",
    "e_N_H_ISM_ppm = 4\n",
    "\n",
    "N_H_depletion_ppm = N_H_cosmic_ppm - N_H_ISM_ppm\n",
    "e_N_H_depletion_ppm = (e_N_H_cosmic_ppm**2 + e_N_H_ISM_ppm**2)**(0.5)\n",
    "print(\"ISM depletion of N = {0:.1f} ± {1:.1f} ppm\".format(N_H_depletion_ppm, e_N_H_depletion_ppm))\n"
   ]
  },
  {
   "cell_type": "markdown",
   "metadata": {},
   "source": [
    "Also, we are curious about the H2O ice content of ISM dust.\n",
    "\n",
    "Whittet et al. (2007) and (2013) show that the ISM ice-on-dust abundance of O is 116 ppm (relative to H), and the solar O/H abundance is 457. Of this, about 50-60% of the O atoms are in H2O (the rest are in CO, CO2).\n",
    "\n",
    "Nieva & Przybilla 2012 give cosmic O/H = 575±66."
   ]
  },
  {
   "cell_type": "code",
   "execution_count": 9,
   "metadata": {},
   "outputs": [
    {
     "name": "stdout",
     "output_type": "stream",
     "text": [
      "H2O in ISM dust: 58.0 ppm / H\n"
     ]
    }
   ],
   "source": [
    "O_H_ice_dust_ppm = 116\n",
    "H2O_H_ppm = 0.5 * O_H_ice_dust_ppm\n",
    "\n",
    "print(\"H2O in ISM dust: {0:.1f} ppm / H\".format(H2O_H_ppm))"
   ]
  },
  {
   "cell_type": "code",
   "execution_count": 14,
   "metadata": {},
   "outputs": [
    {
     "name": "stdout",
     "output_type": "stream",
     "text": [
      "N/H2O in ISM dust (percentage): 19.0 ± 12.4 %\n"
     ]
    }
   ],
   "source": [
    "# Here's the ratio for N/H2O in dust\n",
    "\n",
    "N_H2O = N_H_depletion_ppm / H2O_H_ppm\n",
    "e_N_H2O = e_N_H_depletion_ppm * (N_H2O/N_H_depletion_ppm)\n",
    "print(\"N/H2O in ISM dust (percentage): {0:.1f} ± {1:.1f} %\".format(100*N_H2O, 100*e_N_H2O))"
   ]
  },
  {
   "cell_type": "code",
   "execution_count": null,
   "metadata": {},
   "outputs": [],
   "source": []
  }
 ],
 "metadata": {
  "kernelspec": {
   "display_name": "Python 3",
   "language": "python",
   "name": "python3"
  },
  "language_info": {
   "codemirror_mode": {
    "name": "ipython",
    "version": 3
   },
   "file_extension": ".py",
   "mimetype": "text/x-python",
   "name": "python",
   "nbconvert_exporter": "python",
   "pygments_lexer": "ipython3",
   "version": "3.6.3"
  }
 },
 "nbformat": 4,
 "nbformat_minor": 2
}
