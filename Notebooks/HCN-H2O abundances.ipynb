{
 "cells": [
  {
   "cell_type": "markdown",
   "metadata": {},
   "source": [
    "# HCN/H2O ratios\n",
    "Ok, here I am basically pasting in some of the math which I used (on notebook page 67 of my Leuchtturm book) to compute HCN/H2O ratios.\n",
    "\n",
    "## IRAS 16293 (me + Coutens)"
   ]
  },
  {
   "cell_type": "code",
   "execution_count": 1,
   "metadata": {
    "collapsed": false
   },
   "outputs": [
    {
     "data": {
      "text/plain": [
       "2.5690465157330262"
      ]
     },
     "execution_count": 1,
     "metadata": {},
     "output_type": "execute_result"
    }
   ],
   "source": [
    "# Geometric mean of errors on H2O (in)\n",
    "((5 - 3.8)*(10.5-5))**(0.5)"
   ]
  },
  {
   "cell_type": "code",
   "execution_count": 13,
   "metadata": {
    "collapsed": false
   },
   "outputs": [
    {
     "data": {
      "text/plain": [
       "9.987492177719089"
      ]
     },
     "execution_count": 13,
     "metadata": {},
     "output_type": "execute_result"
    }
   ],
   "source": [
    "# Geometric mean of errors on H2O (out)\n",
    "((15 - 4.5)*(24.5-15))**(0.5)"
   ]
  },
  {
   "cell_type": "code",
   "execution_count": 14,
   "metadata": {
    "collapsed": false
   },
   "outputs": [
    {
     "data": {
      "text/plain": [
       "24.168831167435467"
      ]
     },
     "execution_count": 14,
     "metadata": {},
     "output_type": "execute_result"
    }
   ],
   "source": [
    "# Thrice the geometric mean of errors on HCN (in)\n",
    "3*(7.69*8.44)**0.5"
   ]
  },
  {
   "cell_type": "code",
   "execution_count": 15,
   "metadata": {
    "collapsed": false
   },
   "outputs": [
    {
     "data": {
      "text/plain": [
       "4.11"
      ]
     },
     "execution_count": 15,
     "metadata": {},
     "output_type": "execute_result"
    }
   ],
   "source": [
    "# Thrice the errors on HCN (out)\n",
    "1.37*3"
   ]
  },
  {
   "cell_type": "code",
   "execution_count": 19,
   "metadata": {
    "collapsed": false
   },
   "outputs": [
    {
     "name": "stdout",
     "output_type": "stream",
     "text": [
      "0.011999999999999999\n"
     ]
    }
   ],
   "source": [
    "# HCN / H2O (in)\n",
    "hcn_h2o_in = 6e-8 / 5e-6\n",
    "print(hcn_h2o_in)"
   ]
  },
  {
   "cell_type": "code",
   "execution_count": 20,
   "metadata": {
    "collapsed": false
   },
   "outputs": [
    {
     "name": "stdout",
     "output_type": "stream",
     "text": [
      "0.6513033087586766\n"
     ]
    }
   ],
   "source": [
    "# Sum in quadrature of fractional \"three sigma\" errors on HCN/H2O in\n",
    "fe_hcn_h2o_in = ((2.57/5)**2 + (2.4/6)**2)**0.5\n",
    "print(fe_hcn_h2o_in)"
   ]
  },
  {
   "cell_type": "code",
   "execution_count": 21,
   "metadata": {
    "collapsed": false
   },
   "outputs": [
    {
     "data": {
      "text/plain": [
       "0.007815639705104118"
      ]
     },
     "execution_count": 21,
     "metadata": {},
     "output_type": "execute_result"
    }
   ],
   "source": [
    "# Error on HCN / H2O (in)\n",
    "hcn_h2o_in * fe_hcn_h2o_in"
   ]
  },
  {
   "cell_type": "code",
   "execution_count": 22,
   "metadata": {
    "collapsed": false
   },
   "outputs": [
    {
     "name": "stdout",
     "output_type": "stream",
     "text": [
      "0.09000000000000001\n"
     ]
    }
   ],
   "source": [
    "# HCN / H2O (out)\n",
    "hcn_h2o_out = 1.35e-9 / 1.5e-8\n",
    "print(hcn_h2o_out)"
   ]
  },
  {
   "cell_type": "code",
   "execution_count": 24,
   "metadata": {
    "collapsed": false
   },
   "outputs": [
    {
     "name": "stdout",
     "output_type": "stream",
     "text": [
      "0.7325847282654693\n"
     ]
    }
   ],
   "source": [
    "# Sum in quadrature of fractional \"three sigma\" errors on HCN/H2O out\n",
    "fe_hcn_h2o_out = ((1.0/1.5)**2 + (0.41/1.35)**2)**0.5\n",
    "print(fe_hcn_h2o_out)"
   ]
  },
  {
   "cell_type": "code",
   "execution_count": 25,
   "metadata": {
    "collapsed": false
   },
   "outputs": [
    {
     "data": {
      "text/plain": [
       "0.06593262554389225"
      ]
     },
     "execution_count": 25,
     "metadata": {},
     "output_type": "execute_result"
    }
   ],
   "source": [
    "# Error on HCN / H2O (out)\n",
    "hcn_h2o_out * fe_hcn_h2o_out"
   ]
  },
  {
   "cell_type": "markdown",
   "metadata": {},
   "source": [
    "## Orion KL\n",
    "Now let's do it for Orion KL."
   ]
  },
  {
   "cell_type": "code",
   "execution_count": 26,
   "metadata": {
    "collapsed": false
   },
   "outputs": [
    {
     "name": "stdout",
     "output_type": "stream",
     "text": [
      "0.0009846153846153848\n",
      "0.0005569825722577115\n"
     ]
    }
   ],
   "source": [
    "X_hcn = 6.4e-7 # Crockett 14\n",
    "X_h2o = 6.5e-4 # Neill 13b\n",
    "\n",
    "sum_fe = (0.4**2 + 0.4**2)**0.5\n",
    "hcn_h2o_okl = X_hcn / X_h2o\n",
    "print(hcn_h2o_okl)\n",
    "e_hcn_h2o_okl = sum_fe * hcn_h2o_okl \n",
    "print(e_hcn_h2o_okl)"
   ]
  },
  {
   "cell_type": "code",
   "execution_count": 37,
   "metadata": {
    "collapsed": false
   },
   "outputs": [
    {
     "name": "stdout",
     "output_type": "stream",
     "text": [
      "Just HCN in OKL:\n",
      "0.09846153846153848 %\n",
      "0.05569825722577115 %\n",
      "That's oh-point-oh-nine PERCENT\n",
      "All organic N in OKL:\n",
      "0.13305613305613306 %\n",
      "0.07526791516996102 %\n",
      "That's oh-point-oh-nine PERCENT\n"
     ]
    }
   ],
   "source": [
    "print(\"Just HCN in OKL:\")\n",
    "print(hcn_h2o_okl*100, \"%\")\n",
    "print(e_hcn_h2o_okl*100, \"%\")\n",
    "\n",
    "print(\"That's oh-point-oh-nine PERCENT\")\n",
    "\n",
    "print(\"All organic N in OKL:\")\n",
    "print(hcn_h2o_okl*100/0.74, \"%\")\n",
    "print(e_hcn_h2o_okl*100/0.74, \"%\")\n",
    "\n",
    "print(\"That's oh-point-one-three PERCENT\")"
   ]
  },
  {
   "cell_type": "markdown",
   "metadata": {},
   "source": [
    "## Comets (in aggregate)\n",
    "All this is from the Mumma-Charnley 2011 plot. (Fig. 4)"
   ]
  },
  {
   "cell_type": "code",
   "execution_count": 33,
   "metadata": {
    "collapsed": false
   },
   "outputs": [
    {
     "name": "stdout",
     "output_type": "stream",
     "text": [
      "0.235\n"
     ]
    }
   ],
   "source": [
    "# These values are percentages.\n",
    "max_HNCO = 0.08\n",
    "max_HNC = 0.04\n",
    "max_CH3CN = 0.03\n",
    "max_HC3N = 0.07\n",
    "max_NH2CHO = 0.015\n",
    "\n",
    "max_trace_N_pct = sum([max_HNCO, max_HNC, max_CH3CN, max_HC3N, max_NH2CHO])\n",
    "print(max_trace_N_pct)"
   ]
  },
  {
   "cell_type": "code",
   "execution_count": 36,
   "metadata": {
    "collapsed": false
   },
   "outputs": [
    {
     "name": "stdout",
     "output_type": "stream",
     "text": [
      "1.395\n",
      "0.605\n",
      "2.185\n"
     ]
    }
   ],
   "source": [
    "import numpy as np\n",
    "comets_hcn_pct = np.mean([0.07, 0.45])\n",
    "min_hcn_pct = np.min([0.07, 0.45])\n",
    "max_hcn_pct = np.max([0.07, 0.45])\n",
    "comets_nh3_pct = np.mean([0.3, 1.5])\n",
    "min_nh3_pct = np.min([0.3, 1.5])\n",
    "max_nh3_pct = np.max([0.3, 1.5])\n",
    "\n",
    "sum_comets_pct = comets_hcn_pct + comets_nh3_pct + max_trace_N_pct\n",
    "print(sum_comets_pct)\n",
    "print(min_hcn_pct + min_nh3_pct + max_trace_N_pct)\n",
    "print(max_hcn_pct + max_nh3_pct + max_trace_N_pct)"
   ]
  },
  {
   "cell_type": "code",
   "execution_count": 35,
   "metadata": {
    "collapsed": false
   },
   "outputs": [
    {
     "data": {
      "text/plain": [
       "13.949999999999999"
      ]
     },
     "execution_count": 35,
     "metadata": {},
     "output_type": "execute_result"
    }
   ],
   "source": [
    "sum_comets_pct * 10"
   ]
  },
  {
   "cell_type": "code",
   "execution_count": null,
   "metadata": {
    "collapsed": true
   },
   "outputs": [],
   "source": []
  }
 ],
 "metadata": {
  "kernelspec": {
   "display_name": "Python 3",
   "language": "python",
   "name": "python3"
  },
  "language_info": {
   "codemirror_mode": {
    "name": "ipython",
    "version": 3
   },
   "file_extension": ".py",
   "mimetype": "text/x-python",
   "name": "python",
   "nbconvert_exporter": "python",
   "pygments_lexer": "ipython3",
   "version": "3.6.0"
  }
 },
 "nbformat": 4,
 "nbformat_minor": 2
}
