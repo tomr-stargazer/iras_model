{
 "cells": [
  {
   "cell_type": "markdown",
   "metadata": {},
   "source": [
    "# 1. Setup\n",
    "\n",
    "This is a notebook in which we are taking the best-fit T_jump of HCN (h13cn, really) and deriving a binding energy for it.\n",
    "\n",
    "$$T_{jump} = 71.6_{-2.9}^{+3.0}$$\n",
    "\n",
    "$$X_{in} (H^{13}CN) = \\left( 8.63_{-0.82}^{+0.97} \\right) \\times 10^{-10}$$\n"
   ]
  },
  {
   "cell_type": "code",
   "execution_count": 1,
   "metadata": {},
   "outputs": [],
   "source": [
    "import astropy.units as u\n",
    "import astropy.constants as c\n",
    "\n",
    "X_HCN = 5.96e-8\n",
    "T_jump = 71.2 * u.K\n",
    "n_H2_at_Tjump = 8.226e+07"
   ]
  },
  {
   "cell_type": "markdown",
   "metadata": {},
   "source": [
    "From Hollenbach et al. (2009):\n",
    "\n",
    " $$ T_{f,i} \\simeq (E_i/k) \\left[57 +\n",
    "   \\ln \\left[ \n",
    "       \\left(\n",
    "           \\frac{N_{s,i}}{10^{15}~\\mathrm{cm}^{-2}}\n",
    "           \\right)\n",
    "       \\left( \n",
    "           \\frac{\\nu_i}{10^{13}~\\mathrm{s}^{-1}}\n",
    "           \\right)\n",
    "       \\left(\n",
    "           \\frac{1~\\mathrm{cm}^{-3}}{n_i}\n",
    "           \\right)\n",
    "       \\left(\n",
    "           \\frac{10^{4}~\\mathrm{cm~s}^{-1}}{v_i}\n",
    "           \\right)\n",
    "           \\right] \\right] ^{-1}\n",
    "           $$\n",
    "           \n",
    "$$ \\Rightarrow \\frac{E_i}{k} = T_{f,i} \\times \\left[57 +\n",
    "   \\ln \\left[ \n",
    "       \\left(\n",
    "           \\frac{N_{s,i}}{10^{15}~\\mathrm{cm}^{-2}}\n",
    "           \\right)\n",
    "       \\left( \n",
    "           \\frac{\\nu_i}{10^{13}~\\mathrm{s}^{-1}}\n",
    "           \\right)\n",
    "       \\left(\n",
    "           \\frac{1~\\mathrm{cm}^{-3}}{n_i}\n",
    "           \\right)\n",
    "       \\left(\n",
    "           \\frac{10^{4}~\\mathrm{cm~s}^{-1}}{v_i}\n",
    "           \\right)\n",
    "           \\right] \\right] $$"
   ]
  },
  {
   "cell_type": "code",
   "execution_count": 2,
   "metadata": {},
   "outputs": [
    {
     "name": "stdout",
     "output_type": "stream",
     "text": [
      "H2O binding energy derived from this formula: 5002.9 K\n",
      "Reference H2O binding energy: 4800 K\n"
     ]
    }
   ],
   "source": [
    "import numpy as np\n",
    "\n",
    "def binding_energy_given_desorption_temp(T_fi, N_si=1e15, nu_i=1e13, n_i=1, v_i=1e4):\n",
    "    \n",
    "    log_arg = (N_si/1e15)*(nu_i/1e13)*(1/n_i)*(1e4/v_i)\n",
    "    E_i_over_k = T_fi * (57 + np.log(log_arg))\n",
    "    \n",
    "    return E_i_over_k\n",
    "\n",
    "# Sanity test - H2O\n",
    "n_H2O = 2.13e8 * 5e-6\n",
    "H2O_binding_energy = binding_energy_given_desorption_temp(100*u.K, n_i=n_H2O)\n",
    "print(\"H2O binding energy derived from this formula: {:.1f}\".format(H2O_binding_energy))\n",
    "print(\"Reference H2O binding energy: 4800 K\")"
   ]
  },
  {
   "cell_type": "code",
   "execution_count": 3,
   "metadata": {},
   "outputs": [
    {
     "name": "stdout",
     "output_type": "stream",
     "text": [
      "If we leave all parameters to default values, we get 4058.4 K\n",
      "for the HCN binding energy.\n"
     ]
    }
   ],
   "source": [
    "HCN_binding_energy_naive = binding_energy_given_desorption_temp(T_jump)\n",
    "print(\"If we leave all parameters to default values, we get {:.1f}\".format(HCN_binding_energy_naive))\n",
    "print(\"for the HCN binding energy.\")"
   ]
  },
  {
   "cell_type": "markdown",
   "metadata": {},
   "source": [
    "# 2. Results for HCN binding energy"
   ]
  },
  {
   "cell_type": "code",
   "execution_count": 4,
   "metadata": {},
   "outputs": [
    {
     "name": "stdout",
     "output_type": "stream",
     "text": [
      "Number density of gas-phase HCN at HCN ice line: 4.9 cm-3\n",
      "vibrational frequency of HCN in the surface potential well: 5.27e+13 s-1\n",
      "Thermal velocity of HCN at 71.2 K: 2.4e+04 cm / s\n",
      "\n",
      "Binding energy of HCN: E_i/k = 4002.4 K\n"
     ]
    },
    {
     "data": {
      "text/latex": [
       "$$\\textrm{Binding energy of HCN}: \\boxed{ \\frac{E_i}{k} = 4002.4~\\textrm{K} }$$"
      ],
      "text/plain": [
       "<IPython.core.display.Math object>"
      ]
     },
     "metadata": {},
     "output_type": "display_data"
    }
   ],
   "source": [
    "n_i_HCN = n_H2_at_Tjump * X_HCN\n",
    "print(\"Number density of gas-phase HCN at HCN ice line: {:.1f} cm-3\".format(n_i_HCN))\n",
    "\n",
    "m_HCN = 1 + 12 + 14 # H + C + N\n",
    "nu_HCN = 1.6e11 * np.sqrt(4024.7 * m_HCN)\n",
    "print(\"vibrational frequency of HCN in the surface potential well: {:.2e} s-1\".format(nu_HCN))\n",
    "\n",
    "# thermal velocity.\n",
    "v_HCN = (1.6 * np.sqrt(c.k_B * T_jump / (m_HCN*c.m_p))).to(u.cm/u.s)\n",
    "print(\"Thermal velocity of HCN at {:.1f}: {:.1e}\".format(T_jump, v_HCN))\n",
    "\n",
    "HCN_binding_energy = binding_energy_given_desorption_temp(T_jump, n_i=n_i_HCN, nu_i=nu_HCN, v_i=v_HCN.value)\n",
    "print(\"\\nBinding energy of HCN: E_i/k = {:.1f}\".format(HCN_binding_energy))\n",
    "\n",
    "from IPython.display import display, Math\n",
    "\n",
    "txt = \"\\\\textrm{{Binding energy of HCN}}: \\\\boxed{{ \\\\frac{{E_i}}{{k}} = {:.1f}~\\\\textrm{{K}} }}\".format(HCN_binding_energy.value)\n",
    "display(Math(txt))\n"
   ]
  },
  {
   "cell_type": "code",
   "execution_count": 5,
   "metadata": {},
   "outputs": [
    {
     "name": "stdout",
     "output_type": "stream",
     "text": [
      "4137.361982505839 K\n",
      "3856.291195650823 K\n",
      "\n",
      "+ 134.9139776904076 K\n",
      "- 146.15680916460815 K\n"
     ]
    }
   ],
   "source": [
    "# Now with errorbars\n",
    "\n",
    "T_jump_high = T_jump + 2.4 * u.K\n",
    "T_jump_low = T_jump - 2.6 * u.K\n",
    "\n",
    "HCN_binding_energy_high = binding_energy_given_desorption_temp(T_jump_high, n_i=n_i_HCN, nu_i=nu_HCN, v_i=v_HCN.value)\n",
    "HCN_binding_energy_low = binding_energy_given_desorption_temp(T_jump_low, n_i=n_i_HCN, nu_i=nu_HCN, v_i=v_HCN.value)\n",
    "\n",
    "print(HCN_binding_energy_high)\n",
    "print(HCN_binding_energy_low)\n",
    "print(\"\")\n",
    "print(\"+\", HCN_binding_energy_high-HCN_binding_energy)\n",
    "print(\"-\", HCN_binding_energy-HCN_binding_energy_low)\n"
   ]
  },
  {
   "cell_type": "markdown",
   "metadata": {},
   "source": [
    "## 2.1: Literature values for HCN binding energy\n",
    "\n",
    "For reference, here are binding energies of other molecules (from Schwarz+14 and Hollenbach+2009, respectively):\n",
    "\n",
    "![Table 1 from Schwarz et al. 2014][tableSchwarz]\n",
    "![Table 1 from Hollenbach et al. 2009][tableHollenbach]\n",
    "\n",
    "[tableHollenbach]: Hollenbach09_table1.png\n",
    "[tableSchwarz]: Schwarz14_table1.png\n",
    "\n",
    "Additionally,\n",
    "\n",
    "2460 K -- 6974 K : Bertin et al 2017\n",
    "\n",
    "3370 -- 3610 K : Noble et al 2013\n",
    "\n",
    "1722 K : Bergin et al 1995\n",
    "\n",
    "1760 K: Hasegawa & Herbst 1993 \"New gas-grain chemical models of quiescent dense interstellar clouds - The effects of H2 tunnelling reactions and cosmic ray induced desorption\""
   ]
  },
  {
   "cell_type": "code",
   "execution_count": null,
   "metadata": {
    "collapsed": true
   },
   "outputs": [],
   "source": []
  }
 ],
 "metadata": {
  "kernelspec": {
   "display_name": "Python 3",
   "language": "python",
   "name": "python3"
  },
  "language_info": {
   "codemirror_mode": {
    "name": "ipython",
    "version": 3
   },
   "file_extension": ".py",
   "mimetype": "text/x-python",
   "name": "python",
   "nbconvert_exporter": "python",
   "pygments_lexer": "ipython3",
   "version": "3.6.3"
  }
 },
 "nbformat": 4,
 "nbformat_minor": 2
}
