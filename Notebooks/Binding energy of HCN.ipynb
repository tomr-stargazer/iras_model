{
 "cells": [
  {
   "cell_type": "markdown",
   "metadata": {},
   "source": [
    "This is a notebook in which we are taking the best-fit T_jump of HCN (h13cn, really) and deriving a binding energy for it.\n",
    "\n",
    "$$T_{jump} = 71.6_{-2.9}^{+3.0}$$\n",
    "\n",
    "$$X_{in} (H^{13}CN) = \\left( 8.63_{-0.82}^{+0.97} \\right) \\times 10^{-10}$$\n"
   ]
  },
  {
   "cell_type": "code",
   "execution_count": 7,
   "metadata": {
    "collapsed": true
   },
   "outputs": [],
   "source": [
    "import astropy.units as u\n",
    "\n",
    "X_HCN = 5.96e-8\n",
    "T_jump = 71.6 * u.K\n",
    "n_H2_at_Tjump = 8.226e+07"
   ]
  },
  {
   "cell_type": "markdown",
   "metadata": {},
   "source": [
    "From Hollenbach et al. (2009):\n",
    "\n",
    " $$ T_{f,i} \\simeq (E_i/k) \\left[57 +\n",
    "   \\ln \\left[ \n",
    "       \\left(\n",
    "           \\frac{N_{s,i}}{10^{15}~\\mathrm{cm}^{-2}}\n",
    "           \\right)\n",
    "       \\left( \n",
    "           \\frac{\\nu_i}{10^{13}~\\mathrm{s}^{-1}}\n",
    "           \\right)\n",
    "       \\left(\n",
    "           \\frac{1~\\mathrm{cm}^{-3}}{n_i}\n",
    "           \\right)\n",
    "       \\left(\n",
    "           \\frac{10^{4}~\\mathrm{cm~s}^{-1}}{v_i}\n",
    "           \\right)\n",
    "           \\right] \\right] ^{-1}\n",
    "           $$\n",
    "           \n",
    "$$ \\Rightarrow \\frac{E_i}{k} = T_{f,i} \\times \\left[57 +\n",
    "   \\ln \\left[ \n",
    "       \\left(\n",
    "           \\frac{N_{s,i}}{10^{15}~\\mathrm{cm}^{-2}}\n",
    "           \\right)\n",
    "       \\left( \n",
    "           \\frac{\\nu_i}{10^{13}~\\mathrm{s}^{-1}}\n",
    "           \\right)\n",
    "       \\left(\n",
    "           \\frac{1~\\mathrm{cm}^{-3}}{n_i}\n",
    "           \\right)\n",
    "       \\left(\n",
    "           \\frac{10^{4}~\\mathrm{cm~s}^{-1}}{v_i}\n",
    "           \\right)\n",
    "           \\right] \\right] $$"
   ]
  },
  {
   "cell_type": "code",
   "execution_count": 8,
   "metadata": {
    "collapsed": true
   },
   "outputs": [],
   "source": [
    "import numpy as np\n",
    "\n",
    "def binding_energy_given_desorption_temp(T_fi, N_si=1e15, nu_i=1e13, n_i=1, v_i=1e4):\n",
    "    \n",
    "    log_arg = (N_si/1e15)*(nu_i/1e13)*(1/n_i)*(1e4/v_i)\n",
    "    E_i_over_k = T_fi * (57 + np.log(log_arg))\n",
    "    \n",
    "    return E_i_over_k"
   ]
  },
  {
   "cell_type": "code",
   "execution_count": 9,
   "metadata": {
    "collapsed": false
   },
   "outputs": [
    {
     "name": "stdout",
     "output_type": "stream",
     "text": [
      "4081.2 K\n"
     ]
    }
   ],
   "source": [
    "HCN_binding_energy_naive = binding_energy_given_desorption_temp(T_jump)\n",
    "print(HCN_binding_energy_naive)"
   ]
  },
  {
   "cell_type": "code",
   "execution_count": 17,
   "metadata": {
    "collapsed": false
   },
   "outputs": [
    {
     "name": "stdout",
     "output_type": "stream",
     "text": [
      "Number density of gas-phase HCN at HCN ice line: 4.9 cm-3\n",
      "\n",
      "Binding energy of HCN: E_i/k = 3967.4 K\n"
     ]
    }
   ],
   "source": [
    "n_i_HCN = n_H2_at_Tjump * X_HCN\n",
    "print(\"Number density of gas-phase HCN at HCN ice line: {:.1f} cm-3\".format(n_i_HCN))\n",
    "\n",
    "HCN_binding_energy = binding_energy_given_desorption_temp(T_jump, n_i=n_i_HCN)\n",
    "print(\"\\nBinding energy of HCN: E_i/k = {:.1f}\".format(HCN_binding_energy))"
   ]
  },
  {
   "cell_type": "markdown",
   "metadata": {},
   "source": [
    "For reference, here are binding energies of other molecules (from Hollenbach+2009):\n",
    "\n",
    "![Table 1 from Hollenbach et al. 2009][table1]\n",
    "\n",
    "[table1]: Hollenbach09_table1.png\n"
   ]
  },
  {
   "cell_type": "code",
   "execution_count": null,
   "metadata": {
    "collapsed": true
   },
   "outputs": [],
   "source": []
  }
 ],
 "metadata": {
  "kernelspec": {
   "display_name": "Python 3",
   "language": "python",
   "name": "python3"
  },
  "language_info": {
   "codemirror_mode": {
    "name": "ipython",
    "version": 3
   },
   "file_extension": ".py",
   "mimetype": "text/x-python",
   "name": "python",
   "nbconvert_exporter": "python",
   "pygments_lexer": "ipython3",
   "version": "3.6.0"
  }
 },
 "nbformat": 4,
 "nbformat_minor": 2
}
